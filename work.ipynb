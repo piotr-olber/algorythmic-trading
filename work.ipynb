{
 "cells": [
  {
   "cell_type": "markdown",
   "id": "13208323-bd0e-4c56-b6db-a4c7a2ee9453",
   "metadata": {},
   "source": [
    "strat.data.Returns.std() * np.sqrt(252)"
   ]
  },
  {
   "cell_type": "code",
   "execution_count": 1,
   "id": "1f33a020-ffab-4e34-bc54-637500e129b3",
   "metadata": {},
   "outputs": [],
   "source": [
    "from trading_tools import calculate_return\n",
    "from strategy import Strategy\n",
    "import numpy as np"
   ]
  },
  {
   "cell_type": "code",
   "execution_count": 3,
   "id": "8a38f3d7-9260-4e07-a120-34e985cf897a",
   "metadata": {},
   "outputs": [
    {
     "name": "stderr",
     "output_type": "stream",
     "text": [
      "[*********************100%***********************]  1 of 1 completed\n"
     ]
    },
    {
     "data": {
      "text/html": [
       "<div>\n",
       "<style scoped>\n",
       "    .dataframe tbody tr th:only-of-type {\n",
       "        vertical-align: middle;\n",
       "    }\n",
       "\n",
       "    .dataframe tbody tr th {\n",
       "        vertical-align: top;\n",
       "    }\n",
       "\n",
       "    .dataframe thead th {\n",
       "        text-align: right;\n",
       "    }\n",
       "</style>\n",
       "<table border=\"1\" class=\"dataframe\">\n",
       "  <thead>\n",
       "    <tr style=\"text-align: right;\">\n",
       "      <th></th>\n",
       "      <th>Open</th>\n",
       "      <th>High</th>\n",
       "      <th>Low</th>\n",
       "      <th>Close</th>\n",
       "      <th>Adj Close</th>\n",
       "      <th>Volume</th>\n",
       "      <th>Returns</th>\n",
       "      <th>Position</th>\n",
       "      <th>Strategy</th>\n",
       "    </tr>\n",
       "  </thead>\n",
       "  <tbody>\n",
       "    <tr>\n",
       "      <th>0</th>\n",
       "      <td>108.000000</td>\n",
       "      <td>111.150002</td>\n",
       "      <td>107.500000</td>\n",
       "      <td>110.800003</td>\n",
       "      <td>108.588425</td>\n",
       "      <td>882432</td>\n",
       "      <td>NaN</td>\n",
       "      <td>0</td>\n",
       "      <td>0.0</td>\n",
       "    </tr>\n",
       "    <tr>\n",
       "      <th>1</th>\n",
       "      <td>108.900002</td>\n",
       "      <td>111.900002</td>\n",
       "      <td>108.099998</td>\n",
       "      <td>111.900002</td>\n",
       "      <td>109.666466</td>\n",
       "      <td>620124</td>\n",
       "      <td>0.009879</td>\n",
       "      <td>0</td>\n",
       "      <td>0.0</td>\n",
       "    </tr>\n",
       "    <tr>\n",
       "      <th>2</th>\n",
       "      <td>112.900002</td>\n",
       "      <td>113.199997</td>\n",
       "      <td>110.500000</td>\n",
       "      <td>111.349998</td>\n",
       "      <td>109.127441</td>\n",
       "      <td>541347</td>\n",
       "      <td>-0.004927</td>\n",
       "      <td>0</td>\n",
       "      <td>0.0</td>\n",
       "    </tr>\n",
       "    <tr>\n",
       "      <th>3</th>\n",
       "      <td>112.500000</td>\n",
       "      <td>113.500000</td>\n",
       "      <td>111.449997</td>\n",
       "      <td>111.599998</td>\n",
       "      <td>109.372452</td>\n",
       "      <td>372574</td>\n",
       "      <td>0.002243</td>\n",
       "      <td>0</td>\n",
       "      <td>0.0</td>\n",
       "    </tr>\n",
       "    <tr>\n",
       "      <th>4</th>\n",
       "      <td>111.650002</td>\n",
       "      <td>113.199997</td>\n",
       "      <td>111.000000</td>\n",
       "      <td>112.250000</td>\n",
       "      <td>110.009476</td>\n",
       "      <td>771626</td>\n",
       "      <td>0.005807</td>\n",
       "      <td>0</td>\n",
       "      <td>0.0</td>\n",
       "    </tr>\n",
       "    <tr>\n",
       "      <th>...</th>\n",
       "      <td>...</td>\n",
       "      <td>...</td>\n",
       "      <td>...</td>\n",
       "      <td>...</td>\n",
       "      <td>...</td>\n",
       "      <td>...</td>\n",
       "      <td>...</td>\n",
       "      <td>...</td>\n",
       "      <td>...</td>\n",
       "    </tr>\n",
       "    <tr>\n",
       "      <th>248</th>\n",
       "      <td>160.000000</td>\n",
       "      <td>162.399994</td>\n",
       "      <td>159.050003</td>\n",
       "      <td>159.550003</td>\n",
       "      <td>159.550003</td>\n",
       "      <td>545134</td>\n",
       "      <td>0.011663</td>\n",
       "      <td>0</td>\n",
       "      <td>0.0</td>\n",
       "    </tr>\n",
       "    <tr>\n",
       "      <th>249</th>\n",
       "      <td>159.550003</td>\n",
       "      <td>161.949997</td>\n",
       "      <td>158.199997</td>\n",
       "      <td>160.100006</td>\n",
       "      <td>160.100006</td>\n",
       "      <td>435614</td>\n",
       "      <td>0.003441</td>\n",
       "      <td>0</td>\n",
       "      <td>0.0</td>\n",
       "    </tr>\n",
       "    <tr>\n",
       "      <th>250</th>\n",
       "      <td>159.300003</td>\n",
       "      <td>159.699997</td>\n",
       "      <td>153.000000</td>\n",
       "      <td>154.699997</td>\n",
       "      <td>154.699997</td>\n",
       "      <td>649699</td>\n",
       "      <td>-0.034311</td>\n",
       "      <td>0</td>\n",
       "      <td>0.0</td>\n",
       "    </tr>\n",
       "    <tr>\n",
       "      <th>251</th>\n",
       "      <td>155.199997</td>\n",
       "      <td>157.449997</td>\n",
       "      <td>154.100006</td>\n",
       "      <td>154.750000</td>\n",
       "      <td>154.750000</td>\n",
       "      <td>356881</td>\n",
       "      <td>0.000323</td>\n",
       "      <td>0</td>\n",
       "      <td>0.0</td>\n",
       "    </tr>\n",
       "    <tr>\n",
       "      <th>252</th>\n",
       "      <td>154.449997</td>\n",
       "      <td>156.850006</td>\n",
       "      <td>152.800003</td>\n",
       "      <td>155.250000</td>\n",
       "      <td>155.250000</td>\n",
       "      <td>430610</td>\n",
       "      <td>0.003226</td>\n",
       "      <td>0</td>\n",
       "      <td>0.0</td>\n",
       "    </tr>\n",
       "  </tbody>\n",
       "</table>\n",
       "<p>253 rows × 9 columns</p>\n",
       "</div>"
      ],
      "text/plain": [
       "           Open        High         Low       Close   Adj Close  Volume  \\\n",
       "0    108.000000  111.150002  107.500000  110.800003  108.588425  882432   \n",
       "1    108.900002  111.900002  108.099998  111.900002  109.666466  620124   \n",
       "2    112.900002  113.199997  110.500000  111.349998  109.127441  541347   \n",
       "3    112.500000  113.500000  111.449997  111.599998  109.372452  372574   \n",
       "4    111.650002  113.199997  111.000000  112.250000  110.009476  771626   \n",
       "..          ...         ...         ...         ...         ...     ...   \n",
       "248  160.000000  162.399994  159.050003  159.550003  159.550003  545134   \n",
       "249  159.550003  161.949997  158.199997  160.100006  160.100006  435614   \n",
       "250  159.300003  159.699997  153.000000  154.699997  154.699997  649699   \n",
       "251  155.199997  157.449997  154.100006  154.750000  154.750000  356881   \n",
       "252  154.449997  156.850006  152.800003  155.250000  155.250000  430610   \n",
       "\n",
       "      Returns  Position  Strategy  \n",
       "0         NaN         0       0.0  \n",
       "1    0.009879         0       0.0  \n",
       "2   -0.004927         0       0.0  \n",
       "3    0.002243         0       0.0  \n",
       "4    0.005807         0       0.0  \n",
       "..        ...       ...       ...  \n",
       "248  0.011663         0       0.0  \n",
       "249  0.003441         0       0.0  \n",
       "250 -0.034311         0       0.0  \n",
       "251  0.000323         0       0.0  \n",
       "252  0.003226         0       0.0  \n",
       "\n",
       "[253 rows x 9 columns]"
      ]
     },
     "execution_count": 3,
     "metadata": {},
     "output_type": "execute_result"
    }
   ],
   "source": [
    "strat = Strategy('KGH.WA')\n",
    "strat.data"
   ]
  },
  {
   "cell_type": "code",
   "execution_count": 5,
   "id": "af9c984d-8121-4d02-b5a8-a85e361cd5ae",
   "metadata": {},
   "outputs": [
    {
     "data": {
      "text/plain": [
       "40.12"
      ]
     },
     "execution_count": 5,
     "metadata": {},
     "output_type": "execute_result"
    }
   ],
   "source": [
    "strat.buy_and_hold_return()"
   ]
  },
  {
   "cell_type": "code",
   "execution_count": 7,
   "id": "e41aa501-c51d-4ee1-86cd-947e8e836f16",
   "metadata": {},
   "outputs": [
    {
     "data": {
      "text/plain": [
       "0.0"
      ]
     },
     "execution_count": 7,
     "metadata": {},
     "output_type": "execute_result"
    }
   ],
   "source": [
    "strat.strategy_return()"
   ]
  },
  {
   "cell_type": "code",
   "execution_count": 9,
   "id": "b5aa18a5-154e-45fb-a925-a4f05c367895",
   "metadata": {},
   "outputs": [
    {
     "data": {
      "text/plain": [
       "40.12"
      ]
     },
     "execution_count": 9,
     "metadata": {},
     "output_type": "execute_result"
    }
   ],
   "source": [
    "strat.run()\n",
    "strat.strategy_return()"
   ]
  },
  {
   "cell_type": "code",
   "execution_count": null,
   "id": "903138fc-4c32-4eef-a397-3440f0ff3844",
   "metadata": {},
   "outputs": [],
   "source": []
  }
 ],
 "metadata": {
  "kernelspec": {
   "display_name": "Python 3 (ipykernel)",
   "language": "python",
   "name": "python3"
  },
  "language_info": {
   "codemirror_mode": {
    "name": "ipython",
    "version": 3
   },
   "file_extension": ".py",
   "mimetype": "text/x-python",
   "name": "python",
   "nbconvert_exporter": "python",
   "pygments_lexer": "ipython3",
   "version": "3.12.4"
  }
 },
 "nbformat": 4,
 "nbformat_minor": 5
}
